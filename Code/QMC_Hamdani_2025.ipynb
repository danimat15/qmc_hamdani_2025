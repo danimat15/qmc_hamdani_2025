{
 "cells": [
  {
   "cell_type": "markdown",
   "metadata": {
    "id": "Zgq-iZKJ01Vl"
   },
   "source": [
    "# Import Library"
   ]
  },
  {
   "cell_type": "code",
   "execution_count": 11,
   "metadata": {
    "id": "FeGCwwVF0z5-"
   },
   "outputs": [],
   "source": [
    "import os\n",
    "import json\n",
    "import pandas as pd\n",
    "import requests\n",
    "import json"
   ]
  },
  {
   "cell_type": "markdown",
   "metadata": {
    "id": "dcfBmcJg05Vs"
   },
   "source": [
    "# Menyiapkan Data"
   ]
  },
  {
   "cell_type": "markdown",
   "metadata": {},
   "source": [
    "## Data Folder Bahasa Arab"
   ]
  },
  {
   "cell_type": "code",
   "execution_count": 24,
   "metadata": {
    "id": "UB_aGJ2T0uLD"
   },
   "outputs": [
    {
     "data": {
      "text/html": [
       "<div>\n",
       "<style scoped>\n",
       "    .dataframe tbody tr th:only-of-type {\n",
       "        vertical-align: middle;\n",
       "    }\n",
       "\n",
       "    .dataframe tbody tr th {\n",
       "        vertical-align: top;\n",
       "    }\n",
       "\n",
       "    .dataframe thead th {\n",
       "        text-align: right;\n",
       "    }\n",
       "</style>\n",
       "<table border=\"1\" class=\"dataframe\">\n",
       "  <thead>\n",
       "    <tr style=\"text-align: right;\">\n",
       "      <th></th>\n",
       "      <th>Ayat</th>\n",
       "    </tr>\n",
       "  </thead>\n",
       "  <tbody>\n",
       "    <tr>\n",
       "      <th>0</th>\n",
       "      <td>بِسْمِ اللَّهِ الرَّحْمَـٰنِ الرَّحِيمِ</td>\n",
       "    </tr>\n",
       "    <tr>\n",
       "      <th>1</th>\n",
       "      <td>الْحَمْدُ لِلَّهِ رَبِّ الْعَالَمِينَ</td>\n",
       "    </tr>\n",
       "    <tr>\n",
       "      <th>2</th>\n",
       "      <td>الرَّحْمَـٰنِ الرَّحِيمِ</td>\n",
       "    </tr>\n",
       "    <tr>\n",
       "      <th>3</th>\n",
       "      <td>مَالِكِ يَوْمِ الدِّينِ</td>\n",
       "    </tr>\n",
       "    <tr>\n",
       "      <th>4</th>\n",
       "      <td>إِيَّاكَ نَعْبُدُ وَإِيَّاكَ نَسْتَعِينُ</td>\n",
       "    </tr>\n",
       "  </tbody>\n",
       "</table>\n",
       "</div>"
      ],
      "text/plain": [
       "                                       Ayat\n",
       "0   بِسْمِ اللَّهِ الرَّحْمَـٰنِ الرَّحِيمِ\n",
       "1     الْحَمْدُ لِلَّهِ رَبِّ الْعَالَمِينَ\n",
       "2                  الرَّحْمَـٰنِ الرَّحِيمِ\n",
       "3                   مَالِكِ يَوْمِ الدِّينِ\n",
       "4  إِيَّاكَ نَعْبُدُ وَإِيَّاكَ نَسْتَعِينُ"
      ]
     },
     "execution_count": 24,
     "metadata": {},
     "output_type": "execute_result"
    }
   ],
   "source": [
    "import pandas as pd\n",
    "\n",
    "# URL file mentah dari GitHub (gunakan raw link)\n",
    "url_arabic = \"https://raw.githubusercontent.com/danimat15/qmc_hamdani_2025/main/Bahasa%20Arab/quran-simple.txt\"\n",
    "\n",
    "# Baca file langsung dari GitHub\n",
    "df_arabic = pd.read_csv(url_arabic, header=None, names=[\"Ayat\"], sep=\"\\t\", encoding=\"utf-8\")\n",
    "\n",
    "# Tampilkan 5 baris pertama\n",
    "df_arabic.head()\n"
   ]
  },
  {
   "cell_type": "code",
   "execution_count": 25,
   "metadata": {},
   "outputs": [
    {
     "data": {
      "text/plain": [
       "(6236, 1)"
      ]
     },
     "execution_count": 25,
     "metadata": {},
     "output_type": "execute_result"
    }
   ],
   "source": [
    "df_arabic.shape"
   ]
  },
  {
   "cell_type": "markdown",
   "metadata": {},
   "source": [
    "## Data Folder Bahasa Indonesia"
   ]
  },
  {
   "cell_type": "code",
   "execution_count": 13,
   "metadata": {},
   "outputs": [
    {
     "data": {
      "text/html": [
       "<div>\n",
       "<style scoped>\n",
       "    .dataframe tbody tr th:only-of-type {\n",
       "        vertical-align: middle;\n",
       "    }\n",
       "\n",
       "    .dataframe tbody tr th {\n",
       "        vertical-align: top;\n",
       "    }\n",
       "\n",
       "    .dataframe thead th {\n",
       "        text-align: right;\n",
       "    }\n",
       "</style>\n",
       "<table border=\"1\" class=\"dataframe\">\n",
       "  <thead>\n",
       "    <tr style=\"text-align: right;\">\n",
       "      <th></th>\n",
       "      <th>Surah_Number</th>\n",
       "      <th>Surah_Arabic</th>\n",
       "      <th>Surah_Latin</th>\n",
       "      <th>Ayah_Number</th>\n",
       "      <th>Arabic_Text</th>\n",
       "      <th>Indonesian_Translation</th>\n",
       "      <th>Tafsir_Kemenag</th>\n",
       "    </tr>\n",
       "  </thead>\n",
       "  <tbody>\n",
       "    <tr>\n",
       "      <th>0</th>\n",
       "      <td>1</td>\n",
       "      <td>الفاتحة</td>\n",
       "      <td>Al-Fatihah</td>\n",
       "      <td>1</td>\n",
       "      <td>بِسْمِ اللّٰهِ الرَّحْمٰنِ الرَّحِيْمِ</td>\n",
       "      <td>Dengan nama Allah Yang Maha Pengasih, Maha Pen...</td>\n",
       "      <td>Surah al-Fatihah dimulai dengan Basmalah\\n\\nAd...</td>\n",
       "    </tr>\n",
       "    <tr>\n",
       "      <th>1</th>\n",
       "      <td>1</td>\n",
       "      <td>الفاتحة</td>\n",
       "      <td>Al-Fatihah</td>\n",
       "      <td>2</td>\n",
       "      <td>اَلْحَمْدُ لِلّٰهِ رَبِّ الْعٰلَمِيْنَۙ</td>\n",
       "      <td>Segala puji bagi Allah, Tuhan seluruh alam,</td>\n",
       "      <td>Pada ayat di atas, Allah memulai firman-Nya de...</td>\n",
       "    </tr>\n",
       "    <tr>\n",
       "      <th>2</th>\n",
       "      <td>1</td>\n",
       "      <td>الفاتحة</td>\n",
       "      <td>Al-Fatihah</td>\n",
       "      <td>3</td>\n",
       "      <td>الرَّحْمٰنِ الرَّحِيْمِۙ</td>\n",
       "      <td>Yang Maha Pengasih, Maha Penyayang,</td>\n",
       "      <td>Pada ayat dua di atas Allah swt menerangkan ba...</td>\n",
       "    </tr>\n",
       "    <tr>\n",
       "      <th>3</th>\n",
       "      <td>1</td>\n",
       "      <td>الفاتحة</td>\n",
       "      <td>Al-Fatihah</td>\n",
       "      <td>4</td>\n",
       "      <td>مٰلِكِ يَوْمِ الدِّيْنِۗ</td>\n",
       "      <td>Pemilik hari pembalasan.</td>\n",
       "      <td>Sesudah Allah menyebutkan beberapa sifat-Nya, ...</td>\n",
       "    </tr>\n",
       "    <tr>\n",
       "      <th>4</th>\n",
       "      <td>1</td>\n",
       "      <td>الفاتحة</td>\n",
       "      <td>Al-Fatihah</td>\n",
       "      <td>5</td>\n",
       "      <td>اِيَّاكَ نَعْبُدُ وَاِيَّاكَ نَسْتَعِيْنُۗ</td>\n",
       "      <td>Hanya kepada Engkaulah kami menyembah dan hany...</td>\n",
       "      <td>Di dalam ayat-ayat sebelumnya disebutkan empat...</td>\n",
       "    </tr>\n",
       "  </tbody>\n",
       "</table>\n",
       "</div>"
      ],
      "text/plain": [
       "   Surah_Number Surah_Arabic Surah_Latin  Ayah_Number  \\\n",
       "0             1      الفاتحة  Al-Fatihah            1   \n",
       "1             1      الفاتحة  Al-Fatihah            2   \n",
       "2             1      الفاتحة  Al-Fatihah            3   \n",
       "3             1      الفاتحة  Al-Fatihah            4   \n",
       "4             1      الفاتحة  Al-Fatihah            5   \n",
       "\n",
       "                                  Arabic_Text  \\\n",
       "0      بِسْمِ اللّٰهِ الرَّحْمٰنِ الرَّحِيْمِ   \n",
       "1     اَلْحَمْدُ لِلّٰهِ رَبِّ الْعٰلَمِيْنَۙ   \n",
       "2                    الرَّحْمٰنِ الرَّحِيْمِۙ   \n",
       "3                    مٰلِكِ يَوْمِ الدِّيْنِۗ   \n",
       "4  اِيَّاكَ نَعْبُدُ وَاِيَّاكَ نَسْتَعِيْنُۗ   \n",
       "\n",
       "                              Indonesian_Translation  \\\n",
       "0  Dengan nama Allah Yang Maha Pengasih, Maha Pen...   \n",
       "1        Segala puji bagi Allah, Tuhan seluruh alam,   \n",
       "2                Yang Maha Pengasih, Maha Penyayang,   \n",
       "3                           Pemilik hari pembalasan.   \n",
       "4  Hanya kepada Engkaulah kami menyembah dan hany...   \n",
       "\n",
       "                                      Tafsir_Kemenag  \n",
       "0  Surah al-Fatihah dimulai dengan Basmalah\\n\\nAd...  \n",
       "1  Pada ayat di atas, Allah memulai firman-Nya de...  \n",
       "2  Pada ayat dua di atas Allah swt menerangkan ba...  \n",
       "3  Sesudah Allah menyebutkan beberapa sifat-Nya, ...  \n",
       "4  Di dalam ayat-ayat sebelumnya disebutkan empat...  "
      ]
     },
     "execution_count": 13,
     "metadata": {},
     "output_type": "execute_result"
    }
   ],
   "source": [
    "# Base URL dari GitHub (gunakan raw content URL)\n",
    "base_url = \"https://raw.githubusercontent.com/danimat15/qmc_hamdani_2025/main/Bahasa%20Indonesia/\"\n",
    "\n",
    "# Inisialisasi list untuk menyimpan data\n",
    "data_list = []\n",
    "\n",
    "# Loop melalui semua 114 file JSON\n",
    "for i in range(1, 115):\n",
    "    file_url = f\"{base_url}{i}.json\"  # URL untuk setiap file JSON\n",
    "    \n",
    "    try:\n",
    "        response = requests.get(file_url)  # Mengambil data dari URL\n",
    "        if response.status_code == 200:\n",
    "            data = response.json()\n",
    "            \n",
    "            # Ambil key utama (nomor surat)\n",
    "            surah_number = list(data.keys())[0]\n",
    "            surah_data = data[surah_number]\n",
    "\n",
    "            # Ambil metadata surat\n",
    "            surah_name = surah_data[\"name\"]\n",
    "            surah_latin = surah_data[\"name_latin\"]\n",
    "            num_ayah = int(surah_data[\"number_of_ayah\"])\n",
    "\n",
    "            # Loop setiap ayat dalam surat\n",
    "            for ayah_number, arabic_text in surah_data[\"text\"].items():\n",
    "                translation = surah_data[\"translations\"][\"id\"][\"text\"].get(ayah_number, \"\")\n",
    "                tafsir = surah_data[\"tafsir\"][\"id\"][\"kemenag\"][\"text\"].get(ayah_number, \"\")\n",
    "\n",
    "                data_list.append({\n",
    "                    \"Surah_Number\": int(surah_number),\n",
    "                    \"Surah_Arabic\": surah_name,\n",
    "                    \"Surah_Latin\": surah_latin,\n",
    "                    \"Ayah_Number\": int(ayah_number),\n",
    "                    \"Arabic_Text\": arabic_text,\n",
    "                    \"Indonesian_Translation\": translation,\n",
    "                    \"Tafsir_Kemenag\": tafsir\n",
    "                })\n",
    "    \n",
    "    except Exception as e:\n",
    "        print(f\"Error membaca file {file_url}: {e}\")\n",
    "\n",
    "# Konversi list ke DataFrame\n",
    "df_quran_indonesia = pd.DataFrame(data_list)\n",
    "\n",
    "# Tampilkan 5 baris pertama\n",
    "df_quran_indonesia.head()\n"
   ]
  },
  {
   "cell_type": "code",
   "execution_count": 19,
   "metadata": {},
   "outputs": [
    {
     "data": {
      "text/plain": [
       "(6236, 7)"
      ]
     },
     "execution_count": 19,
     "metadata": {},
     "output_type": "execute_result"
    }
   ],
   "source": [
    "df_quran_indonesia.shape"
   ]
  },
  {
   "cell_type": "markdown",
   "metadata": {},
   "source": [
    "## Data Folder Bahasa Inggris"
   ]
  },
  {
   "cell_type": "code",
   "execution_count": 26,
   "metadata": {},
   "outputs": [
    {
     "data": {
      "text/html": [
       "<div>\n",
       "<style scoped>\n",
       "    .dataframe tbody tr th:only-of-type {\n",
       "        vertical-align: middle;\n",
       "    }\n",
       "\n",
       "    .dataframe tbody tr th {\n",
       "        vertical-align: top;\n",
       "    }\n",
       "\n",
       "    .dataframe thead th {\n",
       "        text-align: right;\n",
       "    }\n",
       "</style>\n",
       "<table border=\"1\" class=\"dataframe\">\n",
       "  <thead>\n",
       "    <tr style=\"text-align: right;\">\n",
       "      <th></th>\n",
       "      <th>Jumlah Ayat</th>\n",
       "      <th>Surah ke-</th>\n",
       "      <th>verse</th>\n",
       "      <th>Terjemahan</th>\n",
       "      <th>1</th>\n",
       "      <th>2</th>\n",
       "      <th>3</th>\n",
       "      <th>4</th>\n",
       "      <th>5</th>\n",
       "      <th>6</th>\n",
       "      <th>7</th>\n",
       "      <th>8</th>\n",
       "      <th>9</th>\n",
       "      <th>10</th>\n",
       "      <th>11</th>\n",
       "      <th>12</th>\n",
       "      <th>13</th>\n",
       "      <th>14</th>\n",
       "      <th>15</th>\n",
       "      <th>16</th>\n",
       "    </tr>\n",
       "  </thead>\n",
       "  <tbody>\n",
       "    <tr>\n",
       "      <th>6633</th>\n",
       "      <td>NaN</td>\n",
       "      <td>NaN</td>\n",
       "      <td>NaN</td>\n",
       "      <td>NaN</td>\n",
       "      <td>NaN</td>\n",
       "      <td>NaN</td>\n",
       "      <td>NaN</td>\n",
       "      <td>NaN</td>\n",
       "      <td>NaN</td>\n",
       "      <td>NaN</td>\n",
       "      <td>NaN</td>\n",
       "      <td>NaN</td>\n",
       "      <td>NaN</td>\n",
       "      <td>NaN</td>\n",
       "      <td>NaN</td>\n",
       "      <td>NaN</td>\n",
       "      <td>NaN</td>\n",
       "      <td>NaN</td>\n",
       "      <td>NaN</td>\n",
       "      <td>NaN</td>\n",
       "    </tr>\n",
       "    <tr>\n",
       "      <th>6634</th>\n",
       "      <td>NaN</td>\n",
       "      <td>NaN</td>\n",
       "      <td>NaN</td>\n",
       "      <td>NaN</td>\n",
       "      <td>NaN</td>\n",
       "      <td>NaN</td>\n",
       "      <td>NaN</td>\n",
       "      <td>NaN</td>\n",
       "      <td>NaN</td>\n",
       "      <td>NaN</td>\n",
       "      <td>NaN</td>\n",
       "      <td>NaN</td>\n",
       "      <td>NaN</td>\n",
       "      <td>NaN</td>\n",
       "      <td>NaN</td>\n",
       "      <td>NaN</td>\n",
       "      <td>NaN</td>\n",
       "      <td>NaN</td>\n",
       "      <td>NaN</td>\n",
       "      <td>NaN</td>\n",
       "    </tr>\n",
       "    <tr>\n",
       "      <th>6635</th>\n",
       "      <td>NaN</td>\n",
       "      <td>NaN</td>\n",
       "      <td>NaN</td>\n",
       "      <td>NaN</td>\n",
       "      <td>NaN</td>\n",
       "      <td>NaN</td>\n",
       "      <td>NaN</td>\n",
       "      <td>NaN</td>\n",
       "      <td>NaN</td>\n",
       "      <td>NaN</td>\n",
       "      <td>NaN</td>\n",
       "      <td>NaN</td>\n",
       "      <td>NaN</td>\n",
       "      <td>NaN</td>\n",
       "      <td>NaN</td>\n",
       "      <td>NaN</td>\n",
       "      <td>NaN</td>\n",
       "      <td>NaN</td>\n",
       "      <td>NaN</td>\n",
       "      <td>NaN</td>\n",
       "    </tr>\n",
       "    <tr>\n",
       "      <th>6636</th>\n",
       "      <td>NaN</td>\n",
       "      <td>NaN</td>\n",
       "      <td>NaN</td>\n",
       "      <td>NaN</td>\n",
       "      <td>NaN</td>\n",
       "      <td>NaN</td>\n",
       "      <td>NaN</td>\n",
       "      <td>NaN</td>\n",
       "      <td>NaN</td>\n",
       "      <td>NaN</td>\n",
       "      <td>NaN</td>\n",
       "      <td>NaN</td>\n",
       "      <td>NaN</td>\n",
       "      <td>NaN</td>\n",
       "      <td>NaN</td>\n",
       "      <td>NaN</td>\n",
       "      <td>NaN</td>\n",
       "      <td>NaN</td>\n",
       "      <td>NaN</td>\n",
       "      <td>NaN</td>\n",
       "    </tr>\n",
       "    <tr>\n",
       "      <th>6637</th>\n",
       "      <td>NaN</td>\n",
       "      <td>NaN</td>\n",
       "      <td>NaN</td>\n",
       "      <td>NaN</td>\n",
       "      <td>NaN</td>\n",
       "      <td>NaN</td>\n",
       "      <td>NaN</td>\n",
       "      <td>NaN</td>\n",
       "      <td>NaN</td>\n",
       "      <td>NaN</td>\n",
       "      <td>NaN</td>\n",
       "      <td>NaN</td>\n",
       "      <td>NaN</td>\n",
       "      <td>NaN</td>\n",
       "      <td>NaN</td>\n",
       "      <td>NaN</td>\n",
       "      <td>NaN</td>\n",
       "      <td>NaN</td>\n",
       "      <td>NaN</td>\n",
       "      <td>NaN</td>\n",
       "    </tr>\n",
       "  </tbody>\n",
       "</table>\n",
       "</div>"
      ],
      "text/plain": [
       "      Jumlah Ayat  Surah ke-  verse Terjemahan   1   2   3   4   5   6   7  \\\n",
       "6633          NaN        NaN    NaN        NaN NaN NaN NaN NaN NaN NaN NaN   \n",
       "6634          NaN        NaN    NaN        NaN NaN NaN NaN NaN NaN NaN NaN   \n",
       "6635          NaN        NaN    NaN        NaN NaN NaN NaN NaN NaN NaN NaN   \n",
       "6636          NaN        NaN    NaN        NaN NaN NaN NaN NaN NaN NaN NaN   \n",
       "6637          NaN        NaN    NaN        NaN NaN NaN NaN NaN NaN NaN NaN   \n",
       "\n",
       "       8   9  10  11  12  13  14  15  16  \n",
       "6633 NaN NaN NaN NaN NaN NaN NaN NaN NaN  \n",
       "6634 NaN NaN NaN NaN NaN NaN NaN NaN NaN  \n",
       "6635 NaN NaN NaN NaN NaN NaN NaN NaN NaN  \n",
       "6636 NaN NaN NaN NaN NaN NaN NaN NaN NaN  \n",
       "6637 NaN NaN NaN NaN NaN NaN NaN NaN NaN  "
      ]
     },
     "execution_count": 26,
     "metadata": {},
     "output_type": "execute_result"
    }
   ],
   "source": [
    "# URL raw dari file CSV di GitHub\n",
    "url_english_csv = \"https://raw.githubusercontent.com/danimat15/qmc_hamdani_2025/main/Bahasa%20Inggris/datasetalquran.csv\"\n",
    "\n",
    "# Membaca file CSV dengan separator \";\"\n",
    "df_english = pd.read_csv(url_english_csv, sep=\";\", encoding=\"utf-8\")\n",
    "\n",
    "# Tampilkan 5 baris pertama\n",
    "df_english.tail()\n"
   ]
  },
  {
   "cell_type": "code",
   "execution_count": 27,
   "metadata": {},
   "outputs": [
    {
     "data": {
      "text/plain": [
       "(6638, 20)"
      ]
     },
     "execution_count": 27,
     "metadata": {},
     "output_type": "execute_result"
    }
   ],
   "source": [
    "df_english.shape"
   ]
  }
 ],
 "metadata": {
  "colab": {
   "authorship_tag": "ABX9TyMoqnI6uDBNmdajpWo+7QnD",
   "private_outputs": true,
   "provenance": []
  },
  "kernelspec": {
   "display_name": "GEO",
   "language": "python",
   "name": "python3"
  },
  "language_info": {
   "codemirror_mode": {
    "name": "ipython",
    "version": 3
   },
   "file_extension": ".py",
   "mimetype": "text/x-python",
   "name": "python",
   "nbconvert_exporter": "python",
   "pygments_lexer": "ipython3",
   "version": "3.13.2"
  }
 },
 "nbformat": 4,
 "nbformat_minor": 0
}
