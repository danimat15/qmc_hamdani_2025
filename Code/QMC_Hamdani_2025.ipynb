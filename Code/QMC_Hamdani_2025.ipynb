{
 "cells": [
  {
   "cell_type": "code",
   "execution_count": 15,
   "metadata": {},
   "outputs": [
    {
     "name": "stderr",
     "output_type": "stream",
     "text": [
      "UsageError: Line magic function `%` not found.\n"
     ]
    }
   ],
   "source": [
    "% pip install -q openpyxl"
   ]
  },
  {
   "cell_type": "markdown",
   "metadata": {
    "id": "Zgq-iZKJ01Vl"
   },
   "source": [
    "# Import Library"
   ]
  },
  {
   "cell_type": "code",
   "execution_count": 11,
   "metadata": {
    "id": "FeGCwwVF0z5-"
   },
   "outputs": [],
   "source": [
    "import os\n",
    "import json\n",
    "import pandas as pd\n",
    "import requests\n",
    "import json"
   ]
  },
  {
   "cell_type": "markdown",
   "metadata": {
    "id": "dcfBmcJg05Vs"
   },
   "source": [
    "# Menyiapkan Data"
   ]
  },
  {
   "cell_type": "markdown",
   "metadata": {},
   "source": [
    "## Data Folder Bahasa Arab"
   ]
  },
  {
   "cell_type": "code",
   "execution_count": 12,
   "metadata": {
    "id": "UB_aGJ2T0uLD"
   },
   "outputs": [
    {
     "data": {
      "text/html": [
       "<div>\n",
       "<style scoped>\n",
       "    .dataframe tbody tr th:only-of-type {\n",
       "        vertical-align: middle;\n",
       "    }\n",
       "\n",
       "    .dataframe tbody tr th {\n",
       "        vertical-align: top;\n",
       "    }\n",
       "\n",
       "    .dataframe thead th {\n",
       "        text-align: right;\n",
       "    }\n",
       "</style>\n",
       "<table border=\"1\" class=\"dataframe\">\n",
       "  <thead>\n",
       "    <tr style=\"text-align: right;\">\n",
       "      <th></th>\n",
       "      <th>Ayat</th>\n",
       "    </tr>\n",
       "  </thead>\n",
       "  <tbody>\n",
       "    <tr>\n",
       "      <th>0</th>\n",
       "      <td>بِسْمِ اللَّهِ الرَّحْمَـٰنِ الرَّحِيمِ</td>\n",
       "    </tr>\n",
       "    <tr>\n",
       "      <th>1</th>\n",
       "      <td>الْحَمْدُ لِلَّهِ رَبِّ الْعَالَمِينَ</td>\n",
       "    </tr>\n",
       "    <tr>\n",
       "      <th>2</th>\n",
       "      <td>الرَّحْمَـٰنِ الرَّحِيمِ</td>\n",
       "    </tr>\n",
       "    <tr>\n",
       "      <th>3</th>\n",
       "      <td>مَالِكِ يَوْمِ الدِّينِ</td>\n",
       "    </tr>\n",
       "    <tr>\n",
       "      <th>4</th>\n",
       "      <td>إِيَّاكَ نَعْبُدُ وَإِيَّاكَ نَسْتَعِينُ</td>\n",
       "    </tr>\n",
       "  </tbody>\n",
       "</table>\n",
       "</div>"
      ],
      "text/plain": [
       "                                       Ayat\n",
       "0   بِسْمِ اللَّهِ الرَّحْمَـٰنِ الرَّحِيمِ\n",
       "1     الْحَمْدُ لِلَّهِ رَبِّ الْعَالَمِينَ\n",
       "2                  الرَّحْمَـٰنِ الرَّحِيمِ\n",
       "3                   مَالِكِ يَوْمِ الدِّينِ\n",
       "4  إِيَّاكَ نَعْبُدُ وَإِيَّاكَ نَسْتَعِينُ"
      ]
     },
     "execution_count": 12,
     "metadata": {},
     "output_type": "execute_result"
    }
   ],
   "source": [
    "import pandas as pd\n",
    "\n",
    "# URL file mentah dari GitHub (gunakan raw link)\n",
    "url_arabic = \"https://raw.githubusercontent.com/danimat15/qmc_hamdani_2025/main/Bahasa%20Arab/quran-simple.txt\"\n",
    "\n",
    "# Baca file langsung dari GitHub\n",
    "df_arabic = pd.read_csv(url_arabic, header=None, names=[\"Ayat\"], sep=\"\\t\", encoding=\"utf-8\")\n",
    "\n",
    "# Tampilkan 5 baris pertama\n",
    "df_arabic.head()\n"
   ]
  },
  {
   "cell_type": "markdown",
   "metadata": {},
   "source": [
    "## Data Folder Bahasa Indonesia"
   ]
  },
  {
   "cell_type": "code",
   "execution_count": 13,
   "metadata": {},
   "outputs": [
    {
     "data": {
      "text/html": [
       "<div>\n",
       "<style scoped>\n",
       "    .dataframe tbody tr th:only-of-type {\n",
       "        vertical-align: middle;\n",
       "    }\n",
       "\n",
       "    .dataframe tbody tr th {\n",
       "        vertical-align: top;\n",
       "    }\n",
       "\n",
       "    .dataframe thead th {\n",
       "        text-align: right;\n",
       "    }\n",
       "</style>\n",
       "<table border=\"1\" class=\"dataframe\">\n",
       "  <thead>\n",
       "    <tr style=\"text-align: right;\">\n",
       "      <th></th>\n",
       "      <th>Surah_Number</th>\n",
       "      <th>Surah_Arabic</th>\n",
       "      <th>Surah_Latin</th>\n",
       "      <th>Ayah_Number</th>\n",
       "      <th>Arabic_Text</th>\n",
       "      <th>Indonesian_Translation</th>\n",
       "      <th>Tafsir_Kemenag</th>\n",
       "    </tr>\n",
       "  </thead>\n",
       "  <tbody>\n",
       "    <tr>\n",
       "      <th>0</th>\n",
       "      <td>1</td>\n",
       "      <td>الفاتحة</td>\n",
       "      <td>Al-Fatihah</td>\n",
       "      <td>1</td>\n",
       "      <td>بِسْمِ اللّٰهِ الرَّحْمٰنِ الرَّحِيْمِ</td>\n",
       "      <td>Dengan nama Allah Yang Maha Pengasih, Maha Pen...</td>\n",
       "      <td>Surah al-Fatihah dimulai dengan Basmalah\\n\\nAd...</td>\n",
       "    </tr>\n",
       "    <tr>\n",
       "      <th>1</th>\n",
       "      <td>1</td>\n",
       "      <td>الفاتحة</td>\n",
       "      <td>Al-Fatihah</td>\n",
       "      <td>2</td>\n",
       "      <td>اَلْحَمْدُ لِلّٰهِ رَبِّ الْعٰلَمِيْنَۙ</td>\n",
       "      <td>Segala puji bagi Allah, Tuhan seluruh alam,</td>\n",
       "      <td>Pada ayat di atas, Allah memulai firman-Nya de...</td>\n",
       "    </tr>\n",
       "    <tr>\n",
       "      <th>2</th>\n",
       "      <td>1</td>\n",
       "      <td>الفاتحة</td>\n",
       "      <td>Al-Fatihah</td>\n",
       "      <td>3</td>\n",
       "      <td>الرَّحْمٰنِ الرَّحِيْمِۙ</td>\n",
       "      <td>Yang Maha Pengasih, Maha Penyayang,</td>\n",
       "      <td>Pada ayat dua di atas Allah swt menerangkan ba...</td>\n",
       "    </tr>\n",
       "    <tr>\n",
       "      <th>3</th>\n",
       "      <td>1</td>\n",
       "      <td>الفاتحة</td>\n",
       "      <td>Al-Fatihah</td>\n",
       "      <td>4</td>\n",
       "      <td>مٰلِكِ يَوْمِ الدِّيْنِۗ</td>\n",
       "      <td>Pemilik hari pembalasan.</td>\n",
       "      <td>Sesudah Allah menyebutkan beberapa sifat-Nya, ...</td>\n",
       "    </tr>\n",
       "    <tr>\n",
       "      <th>4</th>\n",
       "      <td>1</td>\n",
       "      <td>الفاتحة</td>\n",
       "      <td>Al-Fatihah</td>\n",
       "      <td>5</td>\n",
       "      <td>اِيَّاكَ نَعْبُدُ وَاِيَّاكَ نَسْتَعِيْنُۗ</td>\n",
       "      <td>Hanya kepada Engkaulah kami menyembah dan hany...</td>\n",
       "      <td>Di dalam ayat-ayat sebelumnya disebutkan empat...</td>\n",
       "    </tr>\n",
       "  </tbody>\n",
       "</table>\n",
       "</div>"
      ],
      "text/plain": [
       "   Surah_Number Surah_Arabic Surah_Latin  Ayah_Number  \\\n",
       "0             1      الفاتحة  Al-Fatihah            1   \n",
       "1             1      الفاتحة  Al-Fatihah            2   \n",
       "2             1      الفاتحة  Al-Fatihah            3   \n",
       "3             1      الفاتحة  Al-Fatihah            4   \n",
       "4             1      الفاتحة  Al-Fatihah            5   \n",
       "\n",
       "                                  Arabic_Text  \\\n",
       "0      بِسْمِ اللّٰهِ الرَّحْمٰنِ الرَّحِيْمِ   \n",
       "1     اَلْحَمْدُ لِلّٰهِ رَبِّ الْعٰلَمِيْنَۙ   \n",
       "2                    الرَّحْمٰنِ الرَّحِيْمِۙ   \n",
       "3                    مٰلِكِ يَوْمِ الدِّيْنِۗ   \n",
       "4  اِيَّاكَ نَعْبُدُ وَاِيَّاكَ نَسْتَعِيْنُۗ   \n",
       "\n",
       "                              Indonesian_Translation  \\\n",
       "0  Dengan nama Allah Yang Maha Pengasih, Maha Pen...   \n",
       "1        Segala puji bagi Allah, Tuhan seluruh alam,   \n",
       "2                Yang Maha Pengasih, Maha Penyayang,   \n",
       "3                           Pemilik hari pembalasan.   \n",
       "4  Hanya kepada Engkaulah kami menyembah dan hany...   \n",
       "\n",
       "                                      Tafsir_Kemenag  \n",
       "0  Surah al-Fatihah dimulai dengan Basmalah\\n\\nAd...  \n",
       "1  Pada ayat di atas, Allah memulai firman-Nya de...  \n",
       "2  Pada ayat dua di atas Allah swt menerangkan ba...  \n",
       "3  Sesudah Allah menyebutkan beberapa sifat-Nya, ...  \n",
       "4  Di dalam ayat-ayat sebelumnya disebutkan empat...  "
      ]
     },
     "execution_count": 13,
     "metadata": {},
     "output_type": "execute_result"
    }
   ],
   "source": [
    "# Base URL dari GitHub (gunakan raw content URL)\n",
    "base_url = \"https://raw.githubusercontent.com/danimat15/qmc_hamdani_2025/main/Bahasa%20Indonesia/\"\n",
    "\n",
    "# Inisialisasi list untuk menyimpan data\n",
    "data_list = []\n",
    "\n",
    "# Loop melalui semua 114 file JSON\n",
    "for i in range(1, 115):\n",
    "    file_url = f\"{base_url}{i}.json\"  # URL untuk setiap file JSON\n",
    "    \n",
    "    try:\n",
    "        response = requests.get(file_url)  # Mengambil data dari URL\n",
    "        if response.status_code == 200:\n",
    "            data = response.json()\n",
    "            \n",
    "            # Ambil key utama (nomor surat)\n",
    "            surah_number = list(data.keys())[0]\n",
    "            surah_data = data[surah_number]\n",
    "\n",
    "            # Ambil metadata surat\n",
    "            surah_name = surah_data[\"name\"]\n",
    "            surah_latin = surah_data[\"name_latin\"]\n",
    "            num_ayah = int(surah_data[\"number_of_ayah\"])\n",
    "\n",
    "            # Loop setiap ayat dalam surat\n",
    "            for ayah_number, arabic_text in surah_data[\"text\"].items():\n",
    "                translation = surah_data[\"translations\"][\"id\"][\"text\"].get(ayah_number, \"\")\n",
    "                tafsir = surah_data[\"tafsir\"][\"id\"][\"kemenag\"][\"text\"].get(ayah_number, \"\")\n",
    "\n",
    "                data_list.append({\n",
    "                    \"Surah_Number\": int(surah_number),\n",
    "                    \"Surah_Arabic\": surah_name,\n",
    "                    \"Surah_Latin\": surah_latin,\n",
    "                    \"Ayah_Number\": int(ayah_number),\n",
    "                    \"Arabic_Text\": arabic_text,\n",
    "                    \"Indonesian_Translation\": translation,\n",
    "                    \"Tafsir_Kemenag\": tafsir\n",
    "                })\n",
    "    \n",
    "    except Exception as e:\n",
    "        print(f\"Error membaca file {file_url}: {e}\")\n",
    "\n",
    "# Konversi list ke DataFrame\n",
    "df_quran_indonesia = pd.DataFrame(data_list)\n",
    "\n",
    "# Tampilkan 5 baris pertama\n",
    "df_quran_indonesia.head()\n"
   ]
  },
  {
   "cell_type": "markdown",
   "metadata": {},
   "source": [
    "## Data Folder Bahasa Inggris"
   ]
  },
  {
   "cell_type": "code",
   "execution_count": 14,
   "metadata": {},
   "outputs": [
    {
     "ename": "ImportError",
     "evalue": "Missing optional dependency 'openpyxl'.  Use pip or conda to install openpyxl.",
     "output_type": "error",
     "traceback": [
      "\u001b[1;31m---------------------------------------------------------------------------\u001b[0m",
      "\u001b[1;31mModuleNotFoundError\u001b[0m                       Traceback (most recent call last)",
      "File \u001b[1;32mc:\\Users\\Hamdani Umar\\anaconda3\\envs\\GEO\\Lib\\site-packages\\pandas\\compat\\_optional.py:135\u001b[0m, in \u001b[0;36mimport_optional_dependency\u001b[1;34m(name, extra, errors, min_version)\u001b[0m\n\u001b[0;32m    134\u001b[0m \u001b[38;5;28;01mtry\u001b[39;00m:\n\u001b[1;32m--> 135\u001b[0m     module \u001b[38;5;241m=\u001b[39m \u001b[43mimportlib\u001b[49m\u001b[38;5;241;43m.\u001b[39;49m\u001b[43mimport_module\u001b[49m\u001b[43m(\u001b[49m\u001b[43mname\u001b[49m\u001b[43m)\u001b[49m\n\u001b[0;32m    136\u001b[0m \u001b[38;5;28;01mexcept\u001b[39;00m \u001b[38;5;167;01mImportError\u001b[39;00m:\n",
      "File \u001b[1;32mc:\\Users\\Hamdani Umar\\anaconda3\\envs\\GEO\\Lib\\importlib\\__init__.py:88\u001b[0m, in \u001b[0;36mimport_module\u001b[1;34m(name, package)\u001b[0m\n\u001b[0;32m     87\u001b[0m         level \u001b[38;5;241m+\u001b[39m\u001b[38;5;241m=\u001b[39m \u001b[38;5;241m1\u001b[39m\n\u001b[1;32m---> 88\u001b[0m \u001b[38;5;28;01mreturn\u001b[39;00m \u001b[43m_bootstrap\u001b[49m\u001b[38;5;241;43m.\u001b[39;49m\u001b[43m_gcd_import\u001b[49m\u001b[43m(\u001b[49m\u001b[43mname\u001b[49m\u001b[43m[\u001b[49m\u001b[43mlevel\u001b[49m\u001b[43m:\u001b[49m\u001b[43m]\u001b[49m\u001b[43m,\u001b[49m\u001b[43m \u001b[49m\u001b[43mpackage\u001b[49m\u001b[43m,\u001b[49m\u001b[43m \u001b[49m\u001b[43mlevel\u001b[49m\u001b[43m)\u001b[49m\n",
      "File \u001b[1;32m<frozen importlib._bootstrap>:1387\u001b[0m, in \u001b[0;36m_gcd_import\u001b[1;34m(name, package, level)\u001b[0m\n",
      "File \u001b[1;32m<frozen importlib._bootstrap>:1360\u001b[0m, in \u001b[0;36m_find_and_load\u001b[1;34m(name, import_)\u001b[0m\n",
      "File \u001b[1;32m<frozen importlib._bootstrap>:1324\u001b[0m, in \u001b[0;36m_find_and_load_unlocked\u001b[1;34m(name, import_)\u001b[0m\n",
      "\u001b[1;31mModuleNotFoundError\u001b[0m: No module named 'openpyxl'",
      "\nDuring handling of the above exception, another exception occurred:\n",
      "\u001b[1;31mImportError\u001b[0m                               Traceback (most recent call last)",
      "Cell \u001b[1;32mIn[14], line 5\u001b[0m\n\u001b[0;32m      2\u001b[0m url_english \u001b[38;5;241m=\u001b[39m \u001b[38;5;124m\"\u001b[39m\u001b[38;5;124mhttps://raw.githubusercontent.com/danimat15/qmc_hamdani_2025/main/Bahasa\u001b[39m\u001b[38;5;124m%\u001b[39m\u001b[38;5;124m20Inggris/datasetalquran.xlsx\u001b[39m\u001b[38;5;124m\"\u001b[39m\n\u001b[0;32m      4\u001b[0m \u001b[38;5;66;03m# Membaca kedua sheet dari file XLSX\u001b[39;00m\n\u001b[1;32m----> 5\u001b[0m df_english \u001b[38;5;241m=\u001b[39m \u001b[43mpd\u001b[49m\u001b[38;5;241;43m.\u001b[39;49m\u001b[43mread_excel\u001b[49m\u001b[43m(\u001b[49m\u001b[43murl_english\u001b[49m\u001b[43m,\u001b[49m\u001b[43m \u001b[49m\u001b[43msheet_name\u001b[49m\u001b[38;5;241;43m=\u001b[39;49m\u001b[38;5;241;43m0\u001b[39;49m\u001b[43m)\u001b[49m  \u001b[38;5;66;03m# Sheet 1 berisi data utama\u001b[39;00m\n\u001b[0;32m      6\u001b[0m df_english_labels \u001b[38;5;241m=\u001b[39m pd\u001b[38;5;241m.\u001b[39mread_excel(url_english, sheet_name\u001b[38;5;241m=\u001b[39m\u001b[38;5;241m1\u001b[39m)  \u001b[38;5;66;03m# Sheet 2 berisi label/keterangan\u001b[39;00m\n\u001b[0;32m      8\u001b[0m \u001b[38;5;66;03m# Tampilkan 5 baris pertama dari masing-masing sheet\u001b[39;00m\n",
      "File \u001b[1;32mc:\\Users\\Hamdani Umar\\anaconda3\\envs\\GEO\\Lib\\site-packages\\pandas\\io\\excel\\_base.py:495\u001b[0m, in \u001b[0;36mread_excel\u001b[1;34m(io, sheet_name, header, names, index_col, usecols, dtype, engine, converters, true_values, false_values, skiprows, nrows, na_values, keep_default_na, na_filter, verbose, parse_dates, date_parser, date_format, thousands, decimal, comment, skipfooter, storage_options, dtype_backend, engine_kwargs)\u001b[0m\n\u001b[0;32m    493\u001b[0m \u001b[38;5;28;01mif\u001b[39;00m \u001b[38;5;129;01mnot\u001b[39;00m \u001b[38;5;28misinstance\u001b[39m(io, ExcelFile):\n\u001b[0;32m    494\u001b[0m     should_close \u001b[38;5;241m=\u001b[39m \u001b[38;5;28;01mTrue\u001b[39;00m\n\u001b[1;32m--> 495\u001b[0m     io \u001b[38;5;241m=\u001b[39m \u001b[43mExcelFile\u001b[49m\u001b[43m(\u001b[49m\n\u001b[0;32m    496\u001b[0m \u001b[43m        \u001b[49m\u001b[43mio\u001b[49m\u001b[43m,\u001b[49m\n\u001b[0;32m    497\u001b[0m \u001b[43m        \u001b[49m\u001b[43mstorage_options\u001b[49m\u001b[38;5;241;43m=\u001b[39;49m\u001b[43mstorage_options\u001b[49m\u001b[43m,\u001b[49m\n\u001b[0;32m    498\u001b[0m \u001b[43m        \u001b[49m\u001b[43mengine\u001b[49m\u001b[38;5;241;43m=\u001b[39;49m\u001b[43mengine\u001b[49m\u001b[43m,\u001b[49m\n\u001b[0;32m    499\u001b[0m \u001b[43m        \u001b[49m\u001b[43mengine_kwargs\u001b[49m\u001b[38;5;241;43m=\u001b[39;49m\u001b[43mengine_kwargs\u001b[49m\u001b[43m,\u001b[49m\n\u001b[0;32m    500\u001b[0m \u001b[43m    \u001b[49m\u001b[43m)\u001b[49m\n\u001b[0;32m    501\u001b[0m \u001b[38;5;28;01melif\u001b[39;00m engine \u001b[38;5;129;01mand\u001b[39;00m engine \u001b[38;5;241m!=\u001b[39m io\u001b[38;5;241m.\u001b[39mengine:\n\u001b[0;32m    502\u001b[0m     \u001b[38;5;28;01mraise\u001b[39;00m \u001b[38;5;167;01mValueError\u001b[39;00m(\n\u001b[0;32m    503\u001b[0m         \u001b[38;5;124m\"\u001b[39m\u001b[38;5;124mEngine should not be specified when passing \u001b[39m\u001b[38;5;124m\"\u001b[39m\n\u001b[0;32m    504\u001b[0m         \u001b[38;5;124m\"\u001b[39m\u001b[38;5;124man ExcelFile - ExcelFile already has the engine set\u001b[39m\u001b[38;5;124m\"\u001b[39m\n\u001b[0;32m    505\u001b[0m     )\n",
      "File \u001b[1;32mc:\\Users\\Hamdani Umar\\anaconda3\\envs\\GEO\\Lib\\site-packages\\pandas\\io\\excel\\_base.py:1567\u001b[0m, in \u001b[0;36mExcelFile.__init__\u001b[1;34m(self, path_or_buffer, engine, storage_options, engine_kwargs)\u001b[0m\n\u001b[0;32m   1564\u001b[0m \u001b[38;5;28mself\u001b[39m\u001b[38;5;241m.\u001b[39mengine \u001b[38;5;241m=\u001b[39m engine\n\u001b[0;32m   1565\u001b[0m \u001b[38;5;28mself\u001b[39m\u001b[38;5;241m.\u001b[39mstorage_options \u001b[38;5;241m=\u001b[39m storage_options\n\u001b[1;32m-> 1567\u001b[0m \u001b[38;5;28mself\u001b[39m\u001b[38;5;241m.\u001b[39m_reader \u001b[38;5;241m=\u001b[39m \u001b[38;5;28;43mself\u001b[39;49m\u001b[38;5;241;43m.\u001b[39;49m\u001b[43m_engines\u001b[49m\u001b[43m[\u001b[49m\u001b[43mengine\u001b[49m\u001b[43m]\u001b[49m\u001b[43m(\u001b[49m\n\u001b[0;32m   1568\u001b[0m \u001b[43m    \u001b[49m\u001b[38;5;28;43mself\u001b[39;49m\u001b[38;5;241;43m.\u001b[39;49m\u001b[43m_io\u001b[49m\u001b[43m,\u001b[49m\n\u001b[0;32m   1569\u001b[0m \u001b[43m    \u001b[49m\u001b[43mstorage_options\u001b[49m\u001b[38;5;241;43m=\u001b[39;49m\u001b[43mstorage_options\u001b[49m\u001b[43m,\u001b[49m\n\u001b[0;32m   1570\u001b[0m \u001b[43m    \u001b[49m\u001b[43mengine_kwargs\u001b[49m\u001b[38;5;241;43m=\u001b[39;49m\u001b[43mengine_kwargs\u001b[49m\u001b[43m,\u001b[49m\n\u001b[0;32m   1571\u001b[0m \u001b[43m\u001b[49m\u001b[43m)\u001b[49m\n",
      "File \u001b[1;32mc:\\Users\\Hamdani Umar\\anaconda3\\envs\\GEO\\Lib\\site-packages\\pandas\\io\\excel\\_openpyxl.py:552\u001b[0m, in \u001b[0;36mOpenpyxlReader.__init__\u001b[1;34m(self, filepath_or_buffer, storage_options, engine_kwargs)\u001b[0m\n\u001b[0;32m    534\u001b[0m \u001b[38;5;129m@doc\u001b[39m(storage_options\u001b[38;5;241m=\u001b[39m_shared_docs[\u001b[38;5;124m\"\u001b[39m\u001b[38;5;124mstorage_options\u001b[39m\u001b[38;5;124m\"\u001b[39m])\n\u001b[0;32m    535\u001b[0m \u001b[38;5;28;01mdef\u001b[39;00m\u001b[38;5;250m \u001b[39m\u001b[38;5;21m__init__\u001b[39m(\n\u001b[0;32m    536\u001b[0m     \u001b[38;5;28mself\u001b[39m,\n\u001b[1;32m   (...)\u001b[0m\n\u001b[0;32m    539\u001b[0m     engine_kwargs: \u001b[38;5;28mdict\u001b[39m \u001b[38;5;241m|\u001b[39m \u001b[38;5;28;01mNone\u001b[39;00m \u001b[38;5;241m=\u001b[39m \u001b[38;5;28;01mNone\u001b[39;00m,\n\u001b[0;32m    540\u001b[0m ) \u001b[38;5;241m-\u001b[39m\u001b[38;5;241m>\u001b[39m \u001b[38;5;28;01mNone\u001b[39;00m:\n\u001b[0;32m    541\u001b[0m \u001b[38;5;250m    \u001b[39m\u001b[38;5;124;03m\"\"\"\u001b[39;00m\n\u001b[0;32m    542\u001b[0m \u001b[38;5;124;03m    Reader using openpyxl engine.\u001b[39;00m\n\u001b[0;32m    543\u001b[0m \n\u001b[1;32m   (...)\u001b[0m\n\u001b[0;32m    550\u001b[0m \u001b[38;5;124;03m        Arbitrary keyword arguments passed to excel engine.\u001b[39;00m\n\u001b[0;32m    551\u001b[0m \u001b[38;5;124;03m    \"\"\"\u001b[39;00m\n\u001b[1;32m--> 552\u001b[0m     \u001b[43mimport_optional_dependency\u001b[49m\u001b[43m(\u001b[49m\u001b[38;5;124;43m\"\u001b[39;49m\u001b[38;5;124;43mopenpyxl\u001b[39;49m\u001b[38;5;124;43m\"\u001b[39;49m\u001b[43m)\u001b[49m\n\u001b[0;32m    553\u001b[0m     \u001b[38;5;28msuper\u001b[39m()\u001b[38;5;241m.\u001b[39m\u001b[38;5;21m__init__\u001b[39m(\n\u001b[0;32m    554\u001b[0m         filepath_or_buffer,\n\u001b[0;32m    555\u001b[0m         storage_options\u001b[38;5;241m=\u001b[39mstorage_options,\n\u001b[0;32m    556\u001b[0m         engine_kwargs\u001b[38;5;241m=\u001b[39mengine_kwargs,\n\u001b[0;32m    557\u001b[0m     )\n",
      "File \u001b[1;32mc:\\Users\\Hamdani Umar\\anaconda3\\envs\\GEO\\Lib\\site-packages\\pandas\\compat\\_optional.py:138\u001b[0m, in \u001b[0;36mimport_optional_dependency\u001b[1;34m(name, extra, errors, min_version)\u001b[0m\n\u001b[0;32m    136\u001b[0m \u001b[38;5;28;01mexcept\u001b[39;00m \u001b[38;5;167;01mImportError\u001b[39;00m:\n\u001b[0;32m    137\u001b[0m     \u001b[38;5;28;01mif\u001b[39;00m errors \u001b[38;5;241m==\u001b[39m \u001b[38;5;124m\"\u001b[39m\u001b[38;5;124mraise\u001b[39m\u001b[38;5;124m\"\u001b[39m:\n\u001b[1;32m--> 138\u001b[0m         \u001b[38;5;28;01mraise\u001b[39;00m \u001b[38;5;167;01mImportError\u001b[39;00m(msg)\n\u001b[0;32m    139\u001b[0m     \u001b[38;5;28;01mreturn\u001b[39;00m \u001b[38;5;28;01mNone\u001b[39;00m\n\u001b[0;32m    141\u001b[0m \u001b[38;5;66;03m# Handle submodules: if we have submodule, grab parent module from sys.modules\u001b[39;00m\n",
      "\u001b[1;31mImportError\u001b[0m: Missing optional dependency 'openpyxl'.  Use pip or conda to install openpyxl."
     ]
    }
   ],
   "source": [
    "# URL raw file XLSX dari GitHub\n",
    "url_english = \"https://raw.githubusercontent.com/danimat15/qmc_hamdani_2025/main/Bahasa%20Inggris/datasetalquran.xlsx\"\n",
    "\n",
    "# Membaca kedua sheet dari file XLSX\n",
    "df_english = pd.read_excel(url_english, sheet_name=0)  # Sheet 1 berisi data utama\n",
    "df_english_labels = pd.read_excel(url_english, sheet_name=1)  # Sheet 2 berisi label/keterangan\n",
    "\n",
    "# Tampilkan 5 baris pertama dari masing-masing sheet\n",
    "print(\"Data Quran Bahasa Inggris:\")\n",
    "print(df_english.head())\n",
    "\n",
    "print(\"\\nKeterangan Label:\")\n",
    "print(df_english_labels.head())\n"
   ]
  }
 ],
 "metadata": {
  "colab": {
   "authorship_tag": "ABX9TyMoqnI6uDBNmdajpWo+7QnD",
   "private_outputs": true,
   "provenance": []
  },
  "kernelspec": {
   "display_name": "GEO",
   "language": "python",
   "name": "python3"
  },
  "language_info": {
   "codemirror_mode": {
    "name": "ipython",
    "version": 3
   },
   "file_extension": ".py",
   "mimetype": "text/x-python",
   "name": "python",
   "nbconvert_exporter": "python",
   "pygments_lexer": "ipython3",
   "version": "3.13.2"
  }
 },
 "nbformat": 4,
 "nbformat_minor": 0
}
